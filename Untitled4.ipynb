{
 "cells": [
  {
   "cell_type": "code",
   "execution_count": 3,
   "id": "94b99663-4491-4c07-823b-52cccccf9043",
   "metadata": {},
   "outputs": [],
   "source": [
    "import numpy as np # linear algebra\n",
    "import pandas as pd # data processing, CSV file I/O (e.g. pd.read_csv)\n",
    "import os\n",
    "for dirname, _, filenames in os.walk('/kaggle/input'):\n",
    "    for filename in filenames:\n",
    "        print(os.path.join(dirname, filename))"
   ]
  },
  {
   "cell_type": "code",
   "execution_count": 7,
   "id": "52cee9e4-fb6d-4d4c-b1d6-9e656f266deb",
   "metadata": {},
   "outputs": [
    {
     "name": "stdout",
     "output_type": "stream",
     "text": [
      "Working dir: C:\\Users\\DELL\n",
      "Contents: ['.anaconda', '.conda', '.condarc', '.continuum', '.cursor', '.ipynb_checkpoints', '.ipython', '.jupyter', '.matplotlib', '.ms-ad', '.recently-used.xbel', '.spyder-py3', '.vscode', 'anaconda3', 'anaconda_projects', 'AppData', 'Application Data', 'call_center_stats.csv', 'cheatSheets.zip', 'Contacts', 'Cookies', 'Correlation_HiP-FA_SMILESeq.xlsx', 'crypto_etl_project', 'Desktop', 'Documents', 'Downloads', 'earthquake_severity_model.pkl', 'edb_mtk.exe', 'edb_npgsql.exe', 'edb_pem_agent.exe', 'edb_pem_agent.exe-20250526235327', 'edb_pem_agent_8.exe', 'edb_pem_server.exe', 'edb_pem_server.exe-20250526235357', 'edb_pem_server_8.exe', 'edb_pgagent_pg17.exe', 'edb_pgbouncer.exe', 'edb_pgjdbc.exe', 'edb_psqlodbc.exe', 'edb_psqlodbc.exe-20250526235449', 'edb_sqlprofiler_pg17.exe', 'edb_xdb_62.exe', 'edb_xdb_7.exe', 'Favorites', 'IntelGraphicsProfiles', 'Jedi', 'Links', 'Local Settings', 'Microsoft', 'Music', 'My Documents', 'NetHood', 'NTUSER.DAT', 'ntuser.dat.LOG1', 'ntuser.dat.LOG2', 'NTUSER.DAT{833cdafe-cc0c-11ef-a65a-34735aab1744}.TM.blf', 'NTUSER.DAT{833cdafe-cc0c-11ef-a65a-34735aab1744}.TMContainer00000000000000000001.regtrans-ms', 'NTUSER.DAT{833cdafe-cc0c-11ef-a65a-34735aab1744}.TMContainer00000000000000000002.regtrans-ms', 'ntuser.ini', 'OneDrive', 'pemhttpd.exe', 'peptides.xlsx', 'Pictures', 'play_game.py', 'poissfit.py', 'postgis_3_5_pg17.exe', 'postgresql_17.exe', 'PrintHood', 'read_my_excel.py', 'Recent', 'Saved Games', 'Searches', 'SendTo', 'Start Menu', 'Templates', 'Untitled.ipynb', 'untitled.py', 'Untitled1.ipynb', 'Untitled2.ipynb', 'Untitled3.ipynb', 'Untitled4.ipynb', 'venv', 'Videos']\n"
     ]
    },
    {
     "ename": "FileNotFoundError",
     "evalue": "train.csv not found in default locations. Please check path.",
     "output_type": "error",
     "traceback": [
      "\u001b[1;31m---------------------------------------------------------------------------\u001b[0m",
      "\u001b[1;31mFileNotFoundError\u001b[0m                         Traceback (most recent call last)",
      "Cell \u001b[1;32mIn[7], line 14\u001b[0m\n\u001b[0;32m     12\u001b[0m         \u001b[38;5;28;01mbreak\u001b[39;00m\n\u001b[0;32m     13\u001b[0m \u001b[38;5;28;01melse\u001b[39;00m:\n\u001b[1;32m---> 14\u001b[0m     \u001b[38;5;28;01mraise\u001b[39;00m \u001b[38;5;167;01mFileNotFoundError\u001b[39;00m(\u001b[38;5;124m\"\u001b[39m\u001b[38;5;124mtrain.csv not found in default locations. Please check path.\u001b[39m\u001b[38;5;124m\"\u001b[39m)\n\u001b[0;32m     16\u001b[0m df\u001b[38;5;241m.\u001b[39minfo()\n\u001b[0;32m     17\u001b[0m df\u001b[38;5;241m.\u001b[39mhead()\n",
      "\u001b[1;31mFileNotFoundError\u001b[0m: train.csv not found in default locations. Please check path."
     ]
    }
   ],
   "source": [
    "import os\n",
    "import pandas as pd\n",
    "\n",
    "print(\"Working dir:\", os.getcwd())\n",
    "print(\"Contents:\", os.listdir('.'))\n",
    "\n",
    "# Try typical paths in order\n",
    "for path in ['train.csv', 'data/train.csv', '../input/titanic/train.csv']:\n",
    "    if os.path.exists(path):\n",
    "        df = pd.read_csv(path)\n",
    "        print(f\"Loaded successfully from {path}\")\n",
    "        break\n",
    "else:\n",
    "    raise FileNotFoundError(\"train.csv not found in default locations. Please check path.\")\n",
    "\n",
    "df.info()\n",
    "df.head()\n"
   ]
  },
  {
   "cell_type": "code",
   "execution_count": null,
   "id": "d3a7737c-1245-4d01-a1ca-114c1b78fd05",
   "metadata": {},
   "outputs": [],
   "source": [
    "# 🔍 2. Quick Data Overview\n",
    "print(df.info(), '\\n')\n",
    "print(df.describe(), '\\n')\n",
    "print(df.describe(include=['O']), '\\n')\n",
    "print(\"Survived value counts:\\n\", df['Survived'].value_counts(), '\\n')\n"
   ]
  },
  {
   "cell_type": "code",
   "execution_count": null,
   "id": "aadfd463-e465-4bdc-9076-31bb29b2fe66",
   "metadata": {},
   "outputs": [],
   "source": [
    "# 🧩 3. Missing Data Visualization\n",
    "print(\"Missing values:\\n\", df.isnull().sum(), '\\n')\n",
    "plt.figure(figsize=(10,6))\n",
    "sns.heatmap(df.isnull(), cbar=False, yticklabels=False, cmap='viridis')\n",
    "plt.title('Missing Values Heatmap')\n",
    "plt.show()\n"
   ]
  },
  {
   "cell_type": "code",
   "execution_count": null,
   "id": "be2f81ec-9c58-4ee2-8dd6-14640641ab9e",
   "metadata": {},
   "outputs": [],
   "source": [
    "# 📊 4. Univariate Analysis – Categorical\n",
    "fig, axs = plt.subplots(1, 3, figsize=(18,5))\n",
    "\n",
    "sns.countplot(x='Sex', hue='Survived', data=df, ax=axs[0])\n",
    "axs[0].set_title('Survival by Sex')\n",
    "\n",
    "sns.countplot(x='Pclass', hue='Survived', data=df, ax=axs[1])\n",
    "axs[1].set_title('Survival by Pclass')\n",
    "\n",
    "sns.countplot(x='Embarked', hue='Survived', data=df, ax=axs[2])\n",
    "axs[2].set_title('Survival by Embarked')\n",
    "\n",
    "plt.tight_layout()\n"
   ]
  },
  {
   "cell_type": "code",
   "execution_count": null,
   "id": "d17f70cd-f6f3-49f4-855d-d56c3bc69a39",
   "metadata": {},
   "outputs": [],
   "source": [
    "# 📉 5. Univariate Analysis – Numerical\n",
    "fig, axs = plt.subplots(1, 2, figsize=(14,5))\n",
    "\n",
    "sns.histplot(df['Age'].dropna(), kde=True, ax=axs[0], color='steelblue')\n",
    "axs[0].set_title('Age Distribution')\n",
    "\n",
    "sns.histplot(df['Fare'], kde=True, ax=axs[1], color='darkgreen')\n",
    "axs[1].set_title('Fare Distribution')\n",
    "\n",
    "plt.tight_layout()\n"
   ]
  },
  {
   "cell_type": "code",
   "execution_count": null,
   "id": "c0526837-0bcc-452f-9078-f0d636b685d9",
   "metadata": {},
   "outputs": [],
   "source": [
    "# 🎻 6. Violin Plot: Age vs Sex vs Survival\n",
    "plt.figure(figsize=(10,6))\n",
    "sns.violinplot(x='Sex', y='Age', hue='Survived', split=True, data=df, palette='muted')\n",
    "plt.title('Age Distribution by Sex & Survival')\n"
   ]
  },
  {
   "cell_type": "code",
   "execution_count": null,
   "id": "3a2761f1-a857-4378-be38-300e91ebf2be",
   "metadata": {},
   "outputs": [],
   "source": [
    "# 🧮 7. Feature Engineering: Family Size\n",
    "df['Family_Size'] = df['SibSp'] + df['Parch']\n",
    "df['Alone'] = np.where(df['Family_Size']==0, 1, 0)\n",
    "\n",
    "fig, axs = plt.subplots(1, 2, figsize=(14,5))\n",
    "sns.barplot(x='Family_Size', y='Survived', data=df, ax=axs[0], palette='Blues')\n",
    "axs[0].set_title('Survival vs Family Size')\n",
    "sns.barplot(x='Alone', y='Survived', data=df, ax=axs[1], palette='Blues')\n",
    "axs[1].set_title('Survival: Alone vs With Family')\n",
    "plt.tight_layout()\n"
   ]
  },
  {
   "cell_type": "code",
   "execution_count": null,
   "id": "33cf9faf-06de-4663-8dcb-4108f42b2401",
   "metadata": {},
   "outputs": [],
   "source": [
    "# 🎟 8. Binning Age & Fare\n",
    "df['Age_Range'] = pd.cut(df['Age'], bins=[0,12,20,40,60,80], labels=['Child','Teen','Adult','Mature','Senior'])\n",
    "df['Fare_Range'] = pd.qcut(df['Fare'], 4)\n",
    "\n",
    "fig, axs = plt.subplots(1, 2, figsize=(14,5))\n",
    "sns.barplot(x='Age_Range', y='Survived', data=df, ax=axs[0], palette='Oranges')\n",
    "axs[0].set_title('Survival by Age Range')\n",
    "sns.barplot(x='Fare_Range', y='Survived', data=df, ax=axs[1], palette='Greens')\n",
    "axs[1].set_title('Survival by Fare Range')\n",
    "plt.xticks(rotation=45)\n",
    "plt.tight_layout()\n"
   ]
  },
  {
   "cell_type": "code",
   "execution_count": null,
   "id": "1802a260-ff4c-4b08-a61b-96f7e8e40d5c",
   "metadata": {},
   "outputs": [],
   "source": [
    "# 🔗 9. Correlation & Pair Overview\n",
    "plt.figure(figsize=(10,8))\n",
    "sns.heatmap(df.corr(), annot=True, cmap='coolwarm', fmt=\".2f\")\n",
    "plt.title('Feature Correlations')\n",
    "\n",
    "sns.pairplot(df[['Survived','Age','Fare','Pclass']], hue='Survived', diag_kind='kde', palette='muted')\n",
    "plt.suptitle('Pairplot: Numerical Features by Survival', y=1.02)\n"
   ]
  }
 ],
 "metadata": {
  "kernelspec": {
   "display_name": "Python [conda env:base] *",
   "language": "python",
   "name": "conda-base-py"
  },
  "language_info": {
   "codemirror_mode": {
    "name": "ipython",
    "version": 3
   },
   "file_extension": ".py",
   "mimetype": "text/x-python",
   "name": "python",
   "nbconvert_exporter": "python",
   "pygments_lexer": "ipython3",
   "version": "3.12.7"
  }
 },
 "nbformat": 4,
 "nbformat_minor": 5
}
